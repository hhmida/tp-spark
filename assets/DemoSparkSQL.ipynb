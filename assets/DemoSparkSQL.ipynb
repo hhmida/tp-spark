{
 "cells": [
  {
   "cell_type": "code",
   "execution_count": 1,
   "id": "ab3705a8",
   "metadata": {},
   "outputs": [
    {
     "data": {
      "text/plain": [
       "<pyspark.sql.context.SQLContext at 0x7f7b140fbdd8>"
      ]
     },
     "execution_count": 1,
     "metadata": {},
     "output_type": "execute_result"
    }
   ],
   "source": [
    "from pyspark import SparkConf, SparkContext\n",
    "from pyspark.sql import SQLContext\n",
    "sc = SparkContext(conf = SparkConf().setAppName('Demo SparkSQL'))\n",
    "sqlc = SQLContext(sc)\n",
    "sqlc"
   ]
  },
  {
   "cell_type": "code",
   "execution_count": 2,
   "id": "5531a823",
   "metadata": {},
   "outputs": [],
   "source": [
    "from pyspark.sql import SparkSession\n",
    "spark = SparkSession.builder.appName('Demo SparkSQL').getOrCreate()"
   ]
  },
  {
   "cell_type": "markdown",
   "id": "8a35602a",
   "metadata": {},
   "source": [
    "# Création de DataFrame"
   ]
  },
  {
   "cell_type": "markdown",
   "id": "0664b427",
   "metadata": {},
   "source": [
    "## à partir de RDD"
   ]
  },
  {
   "cell_type": "code",
   "execution_count": 3,
   "id": "c30d7bd6",
   "metadata": {
    "scrolled": true
   },
   "outputs": [],
   "source": [
    "data = [['Machine Learning', 1.0],['Big Data', 1.5], ['DataWarehouse', 1.5]]\n",
    "rdd = spark.sparkContext.parallelize(data)\n",
    "df = spark.createDataFrame(rdd)"
   ]
  },
  {
   "cell_type": "code",
   "execution_count": 4,
   "id": "62ef770d",
   "metadata": {},
   "outputs": [
    {
     "data": {
      "text/plain": [
       "[Row(_1='Machine Learning', _2=1.0),\n",
       " Row(_1='Big Data', _2=1.5),\n",
       " Row(_1='DataWarehouse', _2=1.5)]"
      ]
     },
     "execution_count": 4,
     "metadata": {},
     "output_type": "execute_result"
    }
   ],
   "source": [
    "df.collect()"
   ]
  },
  {
   "cell_type": "code",
   "execution_count": 5,
   "id": "8560d8ce",
   "metadata": {},
   "outputs": [
    {
     "data": {
      "text/plain": [
       "[Row(module='Machine Learning', coef=1.0),\n",
       " Row(module='Big Data', coef=1.5),\n",
       " Row(module='DataWarehouse', coef=1.5)]"
      ]
     },
     "execution_count": 5,
     "metadata": {},
     "output_type": "execute_result"
    }
   ],
   "source": [
    "spark.createDataFrame(rdd, schema=\"module string, coef float\").collect()"
   ]
  },
  {
   "cell_type": "code",
   "execution_count": 6,
   "id": "cc2cb850",
   "metadata": {},
   "outputs": [
    {
     "data": {
      "text/plain": [
       "[Row(module, coef='Machine Learning', _2=1.0),\n",
       " Row(module, coef='Big Data', _2=1.5),\n",
       " Row(module, coef='DataWarehouse', _2=1.5)]"
      ]
     },
     "execution_count": 6,
     "metadata": {},
     "output_type": "execute_result"
    }
   ],
   "source": [
    "spark.createDataFrame(rdd, schema=[\"module\", \"coef\"]).collect()"
   ]
  },
  {
   "cell_type": "code",
   "execution_count": 7,
   "id": "d79a06f3",
   "metadata": {},
   "outputs": [
    {
     "data": {
      "text/plain": [
       "[Row(coef=1.0, module='Machine Learning'),\n",
       " Row(coef=1.5, module='Big Data'),\n",
       " Row(coef=1.5, module='DataWarehouse')]"
      ]
     },
     "execution_count": 7,
     "metadata": {},
     "output_type": "execute_result"
    }
   ],
   "source": [
    "from pyspark.sql import Row\n",
    "spark.createDataFrame([Row(module='Machine Learning', coef=1.0), Row(module='Big Data', coef=1.5), Row(module='DataWarehouse', coef=1.5)]).collect()"
   ]
  },
  {
   "cell_type": "markdown",
   "id": "4971a6bf",
   "metadata": {},
   "source": [
    "## Lecture CSV"
   ]
  },
  {
   "cell_type": "code",
   "execution_count": 8,
   "id": "320792cd",
   "metadata": {},
   "outputs": [
    {
     "data": {
      "text/plain": [
       "[Row(zip_code='00501', latitude='40.922326', longitude='-72.637078', city='Holtsville', state='NY', county='Suffolk'),\n",
       " Row(zip_code='00544', latitude='40.922326', longitude='-72.637078', city='Holtsville', state='NY', county='Suffolk')]"
      ]
     },
     "execution_count": 8,
     "metadata": {},
     "output_type": "execute_result"
    }
   ],
   "source": [
    "spark.read.csv('zipcodes.csv', header=True).take(2)"
   ]
  },
  {
   "cell_type": "markdown",
   "id": "0818700e",
   "metadata": {},
   "source": [
    "# Commandes SQL"
   ]
  },
  {
   "cell_type": "code",
   "execution_count": 10,
   "id": "075a02db",
   "metadata": {},
   "outputs": [],
   "source": [
    "zipcodes = spark.read.csv('zipcodes.csv', header=True).cache()"
   ]
  },
  {
   "cell_type": "code",
   "execution_count": 11,
   "id": "44ce6dbd",
   "metadata": {},
   "outputs": [],
   "source": [
    "zipcodes.createOrReplaceTempView('zip_table')"
   ]
  },
  {
   "cell_type": "code",
   "execution_count": 12,
   "id": "2c267b41",
   "metadata": {},
   "outputs": [
    {
     "data": {
      "text/plain": [
       "[Row(latitude='40.922326', longitude='-72.637078'),\n",
       " Row(latitude='40.922326', longitude='-72.637078'),\n",
       " Row(latitude='40.992288', longitude='-72.723496')]"
      ]
     },
     "execution_count": 12,
     "metadata": {},
     "output_type": "execute_result"
    }
   ],
   "source": [
    "spark.sql(\"SELECT latitude, longitude FROM zip_table WHERE state='NY' and zip_code<10000\").collect()"
   ]
  },
  {
   "cell_type": "markdown",
   "id": "0402ad63",
   "metadata": {},
   "source": [
    "# Opérations sur les DataFrames"
   ]
  },
  {
   "cell_type": "markdown",
   "id": "2e5fa3cd",
   "metadata": {},
   "source": [
    "## Opérations pour les clauses SQL"
   ]
  },
  {
   "cell_type": "code",
   "execution_count": 13,
   "id": "7847a97b",
   "metadata": {},
   "outputs": [
    {
     "data": {
      "text/plain": [
       "[Row(latitude='40.922326', longitude='-72.637078'),\n",
       " Row(latitude='40.922326', longitude='-72.637078'),\n",
       " Row(latitude='40.992288', longitude='-72.723496')]"
      ]
     },
     "execution_count": 13,
     "metadata": {},
     "output_type": "execute_result"
    }
   ],
   "source": [
    "zipcodes.where((zipcodes.state=='NY') & (zipcodes.zip_code<10000)).select(zipcodes.latitude, 'longitude').collect()"
   ]
  },
  {
   "cell_type": "code",
   "execution_count": 14,
   "id": "83527f51",
   "metadata": {},
   "outputs": [
    {
     "data": {
      "text/plain": [
       "[Row(avg(latitude)=38.49921866596052, max(longitude)='166.410291')]"
      ]
     },
     "execution_count": 14,
     "metadata": {},
     "output_type": "execute_result"
    }
   ],
   "source": [
    "zipcodes.agg({'latitude':'mean', 'longitude':'max'}).collect()"
   ]
  },
  {
   "cell_type": "markdown",
   "id": "7147059c",
   "metadata": {},
   "source": [
    "## Autres opérations"
   ]
  },
  {
   "cell_type": "code",
   "execution_count": 15,
   "id": "78feb7ec",
   "metadata": {},
   "outputs": [
    {
     "name": "stdout",
     "output_type": "stream",
     "text": [
      "+--------+---------+----------+----------+-----+---------+\n",
      "|zip_code| latitude| longitude|      city|state|   county|\n",
      "+--------+---------+----------+----------+-----+---------+\n",
      "|   00501|40.922326|-72.637078|Holtsville|   NY|  Suffolk|\n",
      "|   00544|40.922326|-72.637078|Holtsville|   NY|  Suffolk|\n",
      "|   00601|18.165273|-66.722583|  Adjuntas|   PR| Adjuntas|\n",
      "|   00602|18.393103|-67.180953|    Aguada|   PR|   Aguada|\n",
      "|   00603|18.455913| -67.14578| Aguadilla|   PR|Aguadilla|\n",
      "+--------+---------+----------+----------+-----+---------+\n",
      "only showing top 5 rows\n",
      "\n"
     ]
    }
   ],
   "source": [
    "zipcodes.show(5)"
   ]
  },
  {
   "cell_type": "code",
   "execution_count": 16,
   "id": "2303db90",
   "metadata": {},
   "outputs": [
    {
     "name": "stdout",
     "output_type": "stream",
     "text": [
      "root\n",
      " |-- zip_code: string (nullable = true)\n",
      " |-- latitude: string (nullable = true)\n",
      " |-- longitude: string (nullable = true)\n",
      " |-- city: string (nullable = true)\n",
      " |-- state: string (nullable = true)\n",
      " |-- county: string (nullable = true)\n",
      "\n"
     ]
    }
   ],
   "source": [
    "zipcodes.printSchema()"
   ]
  },
  {
   "cell_type": "code",
   "execution_count": 17,
   "id": "ee36f6b7",
   "metadata": {},
   "outputs": [
    {
     "data": {
      "text/plain": [
       "[Row(summary='count', latitude='42049'),\n",
       " Row(summary='mean', latitude='38.49921866596052'),\n",
       " Row(summary='stddev', latitude='5.414030114734146'),\n",
       " Row(summary='min', latitude='-7.209975'),\n",
       " Row(summary='max', latitude='70.494693')]"
      ]
     },
     "execution_count": 17,
     "metadata": {},
     "output_type": "execute_result"
    }
   ],
   "source": [
    "zipcodes.describe('latitude').collect()"
   ]
  },
  {
   "cell_type": "code",
   "execution_count": 18,
   "id": "aadad872",
   "metadata": {},
   "outputs": [],
   "source": [
    "from pyspark.sql import Column\n",
    "from pyspark.sql import functions as F\n",
    "zipcodes = zipcodes.withColumn('Region', F.when(zipcodes.latitude<38.852334,'South').otherwise('North'))"
   ]
  },
  {
   "cell_type": "code",
   "execution_count": 19,
   "id": "7fe0a3b9",
   "metadata": {},
   "outputs": [
    {
     "name": "stdout",
     "output_type": "stream",
     "text": [
      "+--------+---------+----------+----------+-----+---------+------+\n",
      "|zip_code| latitude| longitude|      city|state|   county|Region|\n",
      "+--------+---------+----------+----------+-----+---------+------+\n",
      "|   00501|40.922326|-72.637078|Holtsville|   NY|  Suffolk| North|\n",
      "|   00544|40.922326|-72.637078|Holtsville|   NY|  Suffolk| North|\n",
      "|   00601|18.165273|-66.722583|  Adjuntas|   PR| Adjuntas| South|\n",
      "|   00602|18.393103|-67.180953|    Aguada|   PR|   Aguada| South|\n",
      "|   00603|18.455913| -67.14578| Aguadilla|   PR|Aguadilla| South|\n",
      "+--------+---------+----------+----------+-----+---------+------+\n",
      "only showing top 5 rows\n",
      "\n"
     ]
    }
   ],
   "source": [
    "zipcodes.show(5)"
   ]
  },
  {
   "cell_type": "code",
   "execution_count": 20,
   "id": "b8354db1",
   "metadata": {},
   "outputs": [],
   "source": [
    "zipcodes = zipcodes.drop('Region')"
   ]
  },
  {
   "cell_type": "code",
   "execution_count": 21,
   "id": "4ffd017f",
   "metadata": {},
   "outputs": [
    {
     "name": "stdout",
     "output_type": "stream",
     "text": [
      "root\n",
      " |-- zip_code: string (nullable = true)\n",
      " |-- latitude: string (nullable = true)\n",
      " |-- longitude: string (nullable = true)\n",
      " |-- city: string (nullable = true)\n",
      " |-- state: string (nullable = true)\n",
      " |-- county: string (nullable = true)\n",
      "\n"
     ]
    }
   ],
   "source": [
    "zipcodes.printSchema()"
   ]
  }
 ],
 "metadata": {
  "kernelspec": {
   "display_name": "Python 3 (ipykernel)",
   "language": "python",
   "name": "python3"
  },
  "language_info": {
   "codemirror_mode": {
    "name": "ipython",
    "version": 3
   },
   "file_extension": ".py",
   "mimetype": "text/x-python",
   "name": "python",
   "nbconvert_exporter": "python",
   "pygments_lexer": "ipython3",
   "version": "3.10.6"
  },
  "toc": {
   "base_numbering": 1,
   "nav_menu": {},
   "number_sections": true,
   "sideBar": true,
   "skip_h1_title": false,
   "title_cell": "Table of Contents",
   "title_sidebar": "Contents",
   "toc_cell": false,
   "toc_position": {},
   "toc_section_display": true,
   "toc_window_display": false
  },
  "varInspector": {
   "cols": {
    "lenName": 16,
    "lenType": 16,
    "lenVar": 40
   },
   "kernels_config": {
    "python": {
     "delete_cmd_postfix": "",
     "delete_cmd_prefix": "del ",
     "library": "var_list.py",
     "varRefreshCmd": "print(var_dic_list())"
    },
    "r": {
     "delete_cmd_postfix": ") ",
     "delete_cmd_prefix": "rm(",
     "library": "var_list.r",
     "varRefreshCmd": "cat(var_dic_list()) "
    }
   },
   "types_to_exclude": [
    "module",
    "function",
    "builtin_function_or_method",
    "instance",
    "_Feature"
   ],
   "window_display": false
  }
 },
 "nbformat": 4,
 "nbformat_minor": 5
}
