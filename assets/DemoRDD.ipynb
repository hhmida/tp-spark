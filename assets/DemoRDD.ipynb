{
 "cells": [
  {
   "cell_type": "markdown",
   "id": "13afad41",
   "metadata": {},
   "source": [
    "# SparkContext"
   ]
  },
  {
   "cell_type": "markdown",
   "id": "b1470508",
   "metadata": {},
   "source": [
    "## méthode 1"
   ]
  },
  {
   "cell_type": "code",
   "execution_count": 1,
   "id": "e9d1adf3",
   "metadata": {},
   "outputs": [],
   "source": [
    "from pyspark import SparkContext, SparkConf\n",
    "sc = SparkContext(conf=SparkConf().setAppName('Demo RDD'))"
   ]
  },
  {
   "cell_type": "code",
   "execution_count": 2,
   "id": "2c3e347a",
   "metadata": {},
   "outputs": [
    {
     "data": {
      "text/html": [
       "\n",
       "        <div>\n",
       "            <p><b>SparkContext</b></p>\n",
       "\n",
       "            <p><a href=\"http://nodemaster:4040\">Spark UI</a></p>\n",
       "\n",
       "            <dl>\n",
       "              <dt>Version</dt>\n",
       "                <dd><code>v2.4.0</code></dd>\n",
       "              <dt>Master</dt>\n",
       "                <dd><code>local[*]</code></dd>\n",
       "              <dt>AppName</dt>\n",
       "                <dd><code>Demo RDD</code></dd>\n",
       "            </dl>\n",
       "        </div>\n",
       "        "
      ],
      "text/plain": [
       "<SparkContext master=local[*] appName=Demo RDD>"
      ]
     },
     "execution_count": 2,
     "metadata": {},
     "output_type": "execute_result"
    }
   ],
   "source": [
    "sc"
   ]
  },
  {
   "cell_type": "markdown",
   "id": "9a77a89f",
   "metadata": {},
   "source": [
    "## méthode 2"
   ]
  },
  {
   "cell_type": "code",
   "execution_count": 3,
   "id": "e4c7e99b",
   "metadata": {},
   "outputs": [
    {
     "data": {
      "text/html": [
       "\n",
       "        <div>\n",
       "            <p><b>SparkContext</b></p>\n",
       "\n",
       "            <p><a href=\"http://nodemaster:4040\">Spark UI</a></p>\n",
       "\n",
       "            <dl>\n",
       "              <dt>Version</dt>\n",
       "                <dd><code>v2.4.0</code></dd>\n",
       "              <dt>Master</dt>\n",
       "                <dd><code>local[*]</code></dd>\n",
       "              <dt>AppName</dt>\n",
       "                <dd><code>Demo RDD</code></dd>\n",
       "            </dl>\n",
       "        </div>\n",
       "        "
      ],
      "text/plain": [
       "<SparkContext master=local[*] appName=Demo RDD>"
      ]
     },
     "execution_count": 3,
     "metadata": {},
     "output_type": "execute_result"
    }
   ],
   "source": [
    "from pyspark.sql import SparkSession\n",
    "spark = SparkSession.builder.appName('Demo RDD').getOrCreate()\n",
    "sc = spark.sparkContext # ou spark._sc\n",
    "sc"
   ]
  },
  {
   "cell_type": "markdown",
   "id": "777713a0",
   "metadata": {},
   "source": [
    "# Création de RDD"
   ]
  },
  {
   "cell_type": "markdown",
   "id": "0490a3c8",
   "metadata": {},
   "source": [
    "## Parallélisation de collections"
   ]
  },
  {
   "cell_type": "code",
   "execution_count": 4,
   "id": "86d33150",
   "metadata": {},
   "outputs": [],
   "source": [
    "rdd = sc.parallelize([i for i in range (30)])"
   ]
  },
  {
   "cell_type": "code",
   "execution_count": 5,
   "id": "b1035ebc",
   "metadata": {},
   "outputs": [
    {
     "data": {
      "text/plain": [
       "ParallelCollectionRDD[0] at parallelize at PythonRDD.scala:195"
      ]
     },
     "execution_count": 5,
     "metadata": {},
     "output_type": "execute_result"
    }
   ],
   "source": [
    "rdd"
   ]
  },
  {
   "cell_type": "markdown",
   "id": "44b52037",
   "metadata": {},
   "source": [
    "## À partir de fichiers\n",
    "```python\n",
    "sc.textFile(chemin)\n",
    "```\n",
    "**chemin** : peut être le nom d'un fichier ou dossier avec possibilité de caractères génériques.\n",
    "\n",
    "*Exemples* : 'data.csv', 'datasets/*.csv', 'datasets' \n",
    "\n",
    "**Autres emplacements** : le chemin est local par rapport au noeud. Il est possible d'accèder à HDFS, Cassandra, Hbase, Amazon S3, ... avec des l'URI correspondante hdfs://, s3a://, ..."
   ]
  },
  {
   "cell_type": "markdown",
   "id": "073b87b1",
   "metadata": {},
   "source": [
    "### Lecture de lignes séparées"
   ]
  },
  {
   "cell_type": "code",
   "execution_count": 6,
   "id": "cac62bf0",
   "metadata": {},
   "outputs": [
    {
     "data": {
      "text/plain": [
       "zipcodes.csv MapPartitionsRDD[2] at textFile at NativeMethodAccessorImpl.java:0"
      ]
     },
     "execution_count": 6,
     "metadata": {},
     "output_type": "execute_result"
    }
   ],
   "source": [
    "rddText = sc.textFile('zipcodes.csv')\n",
    "rddText"
   ]
  },
  {
   "cell_type": "code",
   "execution_count": 7,
   "id": "32a62821",
   "metadata": {},
   "outputs": [
    {
     "data": {
      "text/plain": [
       "42050"
      ]
     },
     "execution_count": 7,
     "metadata": {},
     "output_type": "execute_result"
    }
   ],
   "source": [
    "rddText.count()"
   ]
  },
  {
   "cell_type": "code",
   "execution_count": 8,
   "id": "518a9702",
   "metadata": {},
   "outputs": [
    {
     "data": {
      "text/plain": [
       "['zip_code,latitude,longitude,city,state,county']"
      ]
     },
     "execution_count": 8,
     "metadata": {},
     "output_type": "execute_result"
    }
   ],
   "source": [
    "rddText.take(1)"
   ]
  },
  {
   "cell_type": "code",
   "execution_count": 9,
   "id": "ba7cfce4",
   "metadata": {},
   "outputs": [],
   "source": [
    "! mkdir files\n",
    "! echo \"exemple de texte\" > files/f1.txt\n",
    "! echo 'un autre exemple' > files/f2.txt"
   ]
  },
  {
   "cell_type": "markdown",
   "id": "8eeeb0ea",
   "metadata": {},
   "source": [
    "### Lecture du contenu entier\n",
    "Création de PairRDD : Les éléments sont des tuples de la forme (chemin, contenu)"
   ]
  },
  {
   "cell_type": "code",
   "execution_count": 10,
   "id": "c691e36f",
   "metadata": {},
   "outputs": [
    {
     "data": {
      "text/plain": [
       "org.apache.spark.api.java.JavaPairRDD@3c636475"
      ]
     },
     "execution_count": 10,
     "metadata": {},
     "output_type": "execute_result"
    }
   ],
   "source": [
    "rddFullText = sc.wholeTextFiles('files/*.txt')\n",
    "rddFullText"
   ]
  },
  {
   "cell_type": "code",
   "execution_count": 11,
   "id": "0de1bca6",
   "metadata": {},
   "outputs": [
    {
     "data": {
      "text/plain": [
       "2"
      ]
     },
     "execution_count": 11,
     "metadata": {},
     "output_type": "execute_result"
    }
   ],
   "source": [
    "rddFullText.count()"
   ]
  },
  {
   "cell_type": "code",
   "execution_count": 12,
   "id": "5f7a83de",
   "metadata": {},
   "outputs": [
    {
     "data": {
      "text/plain": [
       "[('file:/opt/spark-apps/files/f1.txt', 'exemple de texte\\n'),\n",
       " ('file:/opt/spark-apps/files/f2.txt', 'un autre exemple\\n')]"
      ]
     },
     "execution_count": 12,
     "metadata": {},
     "output_type": "execute_result"
    }
   ],
   "source": [
    "rddFullText.collect()"
   ]
  },
  {
   "cell_type": "markdown",
   "id": "95a21144",
   "metadata": {},
   "source": [
    "# Actions"
   ]
  },
  {
   "cell_type": "code",
   "execution_count": 13,
   "id": "0cf37986",
   "metadata": {},
   "outputs": [
    {
     "data": {
      "text/plain": [
       "[0,\n",
       " 1,\n",
       " 2,\n",
       " 3,\n",
       " 4,\n",
       " 5,\n",
       " 6,\n",
       " 7,\n",
       " 8,\n",
       " 9,\n",
       " 10,\n",
       " 11,\n",
       " 12,\n",
       " 13,\n",
       " 14,\n",
       " 15,\n",
       " 16,\n",
       " 17,\n",
       " 18,\n",
       " 19,\n",
       " 20,\n",
       " 21,\n",
       " 22,\n",
       " 23,\n",
       " 24,\n",
       " 25,\n",
       " 26,\n",
       " 27,\n",
       " 28,\n",
       " 29]"
      ]
     },
     "execution_count": 13,
     "metadata": {},
     "output_type": "execute_result"
    }
   ],
   "source": [
    "rdd.collect()"
   ]
  },
  {
   "cell_type": "code",
   "execution_count": 14,
   "id": "9f67ffcc",
   "metadata": {},
   "outputs": [
    {
     "data": {
      "text/plain": [
       "30"
      ]
     },
     "execution_count": 14,
     "metadata": {},
     "output_type": "execute_result"
    }
   ],
   "source": [
    "rdd.count()"
   ]
  },
  {
   "cell_type": "code",
   "execution_count": 15,
   "id": "d684e28d",
   "metadata": {},
   "outputs": [
    {
     "data": {
      "text/plain": [
       "[0, 1, 2]"
      ]
     },
     "execution_count": 15,
     "metadata": {},
     "output_type": "execute_result"
    }
   ],
   "source": [
    "rdd.take(3)"
   ]
  },
  {
   "cell_type": "code",
   "execution_count": 16,
   "id": "e7c84bf4",
   "metadata": {},
   "outputs": [
    {
     "data": {
      "text/plain": [
       "[8, 13, 26, 13, 27, 16, 3, 28, 3, 20]"
      ]
     },
     "execution_count": 16,
     "metadata": {},
     "output_type": "execute_result"
    }
   ],
   "source": [
    "rdd.takeSample(withReplacement=True,num=10,seed=10)"
   ]
  },
  {
   "cell_type": "code",
   "execution_count": 17,
   "id": "78f288c5",
   "metadata": {},
   "outputs": [
    {
     "data": {
      "text/plain": [
       "435"
      ]
     },
     "execution_count": 17,
     "metadata": {},
     "output_type": "execute_result"
    }
   ],
   "source": [
    "rdd.reduce(lambda a,b: a+b)"
   ]
  },
  {
   "cell_type": "code",
   "execution_count": 18,
   "id": "91639d09",
   "metadata": {},
   "outputs": [],
   "source": [
    "rdd.saveAsTextFile('rddOut')"
   ]
  },
  {
   "cell_type": "code",
   "execution_count": 19,
   "id": "17fc9570",
   "metadata": {},
   "outputs": [
    {
     "name": "stdout",
     "output_type": "stream",
     "text": [
      "0\r\n",
      "1\r\n",
      "2\r\n",
      "3\r\n",
      "4\r\n",
      "5\r\n",
      "6\r\n",
      "7\r\n",
      "8\r\n",
      "9\r\n",
      "10\r\n",
      "11\r\n",
      "12\r\n",
      "13\r\n",
      "14\r\n",
      "15\r\n",
      "16\r\n",
      "17\r\n",
      "18\r\n",
      "19\r\n",
      "20\r\n",
      "21\r\n",
      "22\r\n",
      "23\r\n",
      "24\r\n",
      "25\r\n",
      "26\r\n",
      "27\r\n",
      "28\r\n",
      "29\r\n"
     ]
    }
   ],
   "source": [
    "!cat rddOut/*"
   ]
  },
  {
   "cell_type": "markdown",
   "id": "381ee853",
   "metadata": {},
   "source": [
    "# Transformations"
   ]
  },
  {
   "cell_type": "code",
   "execution_count": 20,
   "id": "9939989b",
   "metadata": {},
   "outputs": [
    {
     "data": {
      "text/plain": [
       "[0,\n",
       " 1,\n",
       " 4,\n",
       " 9,\n",
       " 16,\n",
       " 25,\n",
       " 36,\n",
       " 49,\n",
       " 64,\n",
       " 81,\n",
       " 100,\n",
       " 121,\n",
       " 144,\n",
       " 169,\n",
       " 196,\n",
       " 225,\n",
       " 256,\n",
       " 289,\n",
       " 324,\n",
       " 361,\n",
       " 400,\n",
       " 441,\n",
       " 484,\n",
       " 529,\n",
       " 576,\n",
       " 625,\n",
       " 676,\n",
       " 729,\n",
       " 784,\n",
       " 841]"
      ]
     },
     "execution_count": 20,
     "metadata": {},
     "output_type": "execute_result"
    }
   ],
   "source": [
    "rdd.map(lambda i:i**2).collect()"
   ]
  },
  {
   "cell_type": "code",
   "execution_count": 21,
   "id": "fdb47f2e",
   "metadata": {},
   "outputs": [
    {
     "data": {
      "text/plain": [
       "[0,\n",
       " 1,\n",
       " 4,\n",
       " 9,\n",
       " 16,\n",
       " 25,\n",
       " 36,\n",
       " 49,\n",
       " 64,\n",
       " 81,\n",
       " 100,\n",
       " 121,\n",
       " 144,\n",
       " 169,\n",
       " 196,\n",
       " 225,\n",
       " 256,\n",
       " 289,\n",
       " 324,\n",
       " 361,\n",
       " 400,\n",
       " 441,\n",
       " 484,\n",
       " 529,\n",
       " 576,\n",
       " 625,\n",
       " 676,\n",
       " 729,\n",
       " 784,\n",
       " 841]"
      ]
     },
     "execution_count": 21,
     "metadata": {},
     "output_type": "execute_result"
    }
   ],
   "source": [
    "def square(i):\n",
    "    return i**2\n",
    "rdd.map(square).collect()"
   ]
  },
  {
   "cell_type": "code",
   "execution_count": 22,
   "id": "2318a1d5",
   "metadata": {},
   "outputs": [
    {
     "data": {
      "text/plain": [
       "[0.0,\n",
       " 1.0,\n",
       " 1.4142135623730951,\n",
       " 1.7320508075688772,\n",
       " 2.0,\n",
       " 2.23606797749979,\n",
       " 2.449489742783178,\n",
       " 2.6457513110645907,\n",
       " 2.8284271247461903,\n",
       " 3.0,\n",
       " 3.1622776601683795,\n",
       " 3.3166247903554,\n",
       " 3.4641016151377544,\n",
       " 3.605551275463989,\n",
       " 3.7416573867739413,\n",
       " 3.872983346207417,\n",
       " 4.0,\n",
       " 4.123105625617661,\n",
       " 4.242640687119285,\n",
       " 4.358898943540674,\n",
       " 4.47213595499958,\n",
       " 4.58257569495584,\n",
       " 4.69041575982343,\n",
       " 4.795831523312719,\n",
       " 4.898979485566356,\n",
       " 5.0,\n",
       " 5.0990195135927845,\n",
       " 5.196152422706632,\n",
       " 5.291502622129181,\n",
       " 5.385164807134504]"
      ]
     },
     "execution_count": 22,
     "metadata": {},
     "output_type": "execute_result"
    }
   ],
   "source": [
    "from math import sqrt\n",
    "rdd.map(sqrt).collect()"
   ]
  },
  {
   "cell_type": "code",
   "execution_count": 23,
   "id": "6620fd01",
   "metadata": {},
   "outputs": [
    {
     "data": {
      "text/plain": [
       "[0, 2, 4, 6, 8, 10, 12, 14, 16, 18, 20, 22, 24, 26, 28]"
      ]
     },
     "execution_count": 23,
     "metadata": {},
     "output_type": "execute_result"
    }
   ],
   "source": [
    "rdd.filter(lambda x:x%2==0).collect()"
   ]
  },
  {
   "cell_type": "code",
   "execution_count": 24,
   "id": "e097dabd",
   "metadata": {},
   "outputs": [
    {
     "data": {
      "text/plain": [
       "['0',\n",
       " '1',\n",
       " '2',\n",
       " '3',\n",
       " '4',\n",
       " '5',\n",
       " '6',\n",
       " '7',\n",
       " '8',\n",
       " '9',\n",
       " '1',\n",
       " '0',\n",
       " '1',\n",
       " '1',\n",
       " '1',\n",
       " '2',\n",
       " '1',\n",
       " '3',\n",
       " '1',\n",
       " '4',\n",
       " '1',\n",
       " '5',\n",
       " '1',\n",
       " '6',\n",
       " '1',\n",
       " '7',\n",
       " '1',\n",
       " '8',\n",
       " '1',\n",
       " '9',\n",
       " '2',\n",
       " '0',\n",
       " '2',\n",
       " '1',\n",
       " '2',\n",
       " '2',\n",
       " '2',\n",
       " '3',\n",
       " '2',\n",
       " '4',\n",
       " '2',\n",
       " '5',\n",
       " '2',\n",
       " '6',\n",
       " '2',\n",
       " '7',\n",
       " '2',\n",
       " '8',\n",
       " '2',\n",
       " '9']"
      ]
     },
     "execution_count": 24,
     "metadata": {},
     "output_type": "execute_result"
    }
   ],
   "source": [
    "rdd.flatMap(lambda i:list(str(i))).collect()"
   ]
  },
  {
   "cell_type": "code",
   "execution_count": 25,
   "id": "205f23d8",
   "metadata": {},
   "outputs": [
    {
     "data": {
      "text/plain": [
       "[0, 15]"
      ]
     },
     "execution_count": 25,
     "metadata": {},
     "output_type": "execute_result"
    }
   ],
   "source": [
    "mult3 = rdd.filter(lambda x:x%3==0)\n",
    "mult5 = rdd.filter(lambda x:x%5==0)\n",
    "mult3.intersection(mult5).collect()"
   ]
  },
  {
   "cell_type": "code",
   "execution_count": 26,
   "id": "db1f0c2f",
   "metadata": {},
   "outputs": [
    {
     "data": {
      "text/plain": [
       "[29,\n",
       " 28,\n",
       " 27,\n",
       " 26,\n",
       " 25,\n",
       " 24,\n",
       " 23,\n",
       " 22,\n",
       " 21,\n",
       " 20,\n",
       " 19,\n",
       " 18,\n",
       " 17,\n",
       " 16,\n",
       " 15,\n",
       " 14,\n",
       " 13,\n",
       " 12,\n",
       " 11,\n",
       " 10,\n",
       " 9,\n",
       " 8,\n",
       " 7,\n",
       " 6,\n",
       " 5,\n",
       " 4,\n",
       " 3,\n",
       " 2,\n",
       " 1,\n",
       " 0]"
      ]
     },
     "execution_count": 26,
     "metadata": {},
     "output_type": "execute_result"
    }
   ],
   "source": [
    "rdd.sortBy(lambda x:x, ascending=False).collect()"
   ]
  },
  {
   "cell_type": "markdown",
   "id": "0e0dcc48",
   "metadata": {},
   "source": [
    "# PairRDD"
   ]
  },
  {
   "cell_type": "code",
   "execution_count": 27,
   "id": "80e389da",
   "metadata": {},
   "outputs": [],
   "source": [
    "# Créer un PairRDD de la forme (nombre, sommeChiffres)\n",
    "def somme(i):\n",
    "    l = list(str(i))\n",
    "    l = [int(x) for x in l]\n",
    "    return sum(l)\n",
    "prdd = rdd.map(lambda x: (somme(x), x))"
   ]
  },
  {
   "cell_type": "code",
   "execution_count": 28,
   "id": "dbb5011b",
   "metadata": {},
   "outputs": [
    {
     "data": {
      "text/plain": [
       "[(0, 0),\n",
       " (1, 1),\n",
       " (2, 2),\n",
       " (3, 3),\n",
       " (4, 4),\n",
       " (5, 5),\n",
       " (6, 6),\n",
       " (7, 7),\n",
       " (8, 8),\n",
       " (9, 9),\n",
       " (1, 10),\n",
       " (2, 11),\n",
       " (3, 12),\n",
       " (4, 13),\n",
       " (5, 14),\n",
       " (6, 15),\n",
       " (7, 16),\n",
       " (8, 17),\n",
       " (9, 18),\n",
       " (10, 19),\n",
       " (2, 20),\n",
       " (3, 21),\n",
       " (4, 22),\n",
       " (5, 23),\n",
       " (6, 24),\n",
       " (7, 25),\n",
       " (8, 26),\n",
       " (9, 27),\n",
       " (10, 28),\n",
       " (11, 29)]"
      ]
     },
     "execution_count": 28,
     "metadata": {},
     "output_type": "execute_result"
    }
   ],
   "source": [
    "prdd.collect()"
   ]
  },
  {
   "cell_type": "code",
   "execution_count": 29,
   "id": "bda09e13",
   "metadata": {},
   "outputs": [
    {
     "data": {
      "text/plain": [
       "[(0, [0]),\n",
       " (1, [1, 10]),\n",
       " (2, [2, 11, 20]),\n",
       " (3, [3, 12, 21]),\n",
       " (4, [4, 13, 22]),\n",
       " (5, [5, 14, 23]),\n",
       " (6, [6, 15, 24]),\n",
       " (7, [7, 16, 25]),\n",
       " (8, [8, 17, 26]),\n",
       " (9, [9, 18, 27]),\n",
       " (10, [19, 28]),\n",
       " (11, [29])]"
      ]
     },
     "execution_count": 29,
     "metadata": {},
     "output_type": "execute_result"
    }
   ],
   "source": [
    "# Grouper par la clé : les nombres qui ont la même somme de leurs chiffres exemple [3, 12, 21, ..]\n",
    "\n",
    "res1 = prdd.groupByKey().collect()\n",
    "sorted([(x, sorted(y)) for (x,y) in res1])"
   ]
  },
  {
   "cell_type": "code",
   "execution_count": 30,
   "id": "7314892a",
   "metadata": {},
   "outputs": [
    {
     "data": {
      "text/plain": [
       "[(0, [0]),\n",
       " (1, [1, 10]),\n",
       " (2, [2, 11, 20]),\n",
       " (3, [3, 12, 21]),\n",
       " (4, [4, 13, 22]),\n",
       " (5, [5, 14, 23]),\n",
       " (6, [6, 15, 24]),\n",
       " (7, [7, 16, 25]),\n",
       " (8, [8, 17, 26]),\n",
       " (9, [9, 18, 27]),\n",
       " (10, [19, 28]),\n",
       " (11, [29])]"
      ]
     },
     "execution_count": 30,
     "metadata": {},
     "output_type": "execute_result"
    }
   ],
   "source": [
    "# Le même résultat peut être obtenu avec groupBy\n",
    "\n",
    "res =rdd.groupBy(lambda x:somme(x)).collect()\n",
    "sorted([(x, sorted(y)) for (x,y) in res])"
   ]
  },
  {
   "cell_type": "code",
   "execution_count": 31,
   "id": "58930381",
   "metadata": {},
   "outputs": [
    {
     "data": {
      "text/plain": [
       "defaultdict(int,\n",
       "            {0: 1,\n",
       "             1: 2,\n",
       "             2: 3,\n",
       "             3: 3,\n",
       "             4: 3,\n",
       "             5: 3,\n",
       "             6: 3,\n",
       "             7: 3,\n",
       "             8: 3,\n",
       "             9: 3,\n",
       "             10: 2,\n",
       "             11: 1})"
      ]
     },
     "execution_count": 31,
     "metadata": {},
     "output_type": "execute_result"
    }
   ],
   "source": [
    "prdd.countByKey()"
   ]
  }
 ],
 "metadata": {
  "kernelspec": {
   "display_name": "Python 3",
   "language": "python",
   "name": "python3"
  },
  "language_info": {
   "codemirror_mode": {
    "name": "ipython",
    "version": 3
   },
   "file_extension": ".py",
   "mimetype": "text/x-python",
   "name": "python",
   "nbconvert_exporter": "python",
   "pygments_lexer": "ipython3",
   "version": "3.7.3"
  }
 },
 "nbformat": 4,
 "nbformat_minor": 5
}
